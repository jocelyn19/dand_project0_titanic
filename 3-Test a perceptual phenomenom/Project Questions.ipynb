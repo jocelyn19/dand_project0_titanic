{
 "cells": [
  {
   "cell_type": "markdown",
   "metadata": {},
   "source": [
    "# Statistics: The Science of Decisions Project Instructions\n",
    "\n",
    "## Background Information\n",
    "\n",
    "In a Stroop task, participants are presented with a list of words, with each word displayed in a color of ink. The participant’s task is to say out loud the color of the ink in which the word is printed. The task has two conditions: a congruent words condition, and an incongruent words condition. In the congruent words condition, the words being displayed are color words whose names match the colors in which they are printed: for example RED, BLUE. In the incongruent words condition, the words displayed are color words whose names do not match the colors in which they are printed: for example PURPLE, ORANGE. In each case, we measure the time it takes to name the ink colors in equally-sized lists. Each participant will go through and record a time from each condition.\n",
    "\n",
    "## Questions For Investigation\n",
    "\n",
    "1. What is our independent variable? What is our dependent variable?\n",
    "2. What is an appropriate set of hypotheses for this task? What kind of statistical test do you expect to perform? Justify your choices.\n",
    "3. Report some descriptive statistics regarding this dataset. Include at least one measure of central tendency and at least one measure of variability.\n",
    "4. Provide one or two visualizations that show the distribution of the sample data. Write one or two sentences noting what you observe about the plot or plots.\n",
    "5. Now, perform the statistical test and report your results. What is your confidence level and your critical statistic value? Do you reject the null hypothesis or fail to reject it? Come to a conclusion in terms of the experiment task. Did the results match up with your expectations?\n",
    "6. Optional: What do you think is responsible for the effects observed? Can you think of an alternative or similar task that would result in a similar effect? Some research about the problem will be helpful for thinking about these two questions!\n",
    "\n",
    "First I will import the dataset with the following code:"
   ]
  },
  {
   "cell_type": "code",
   "execution_count": 55,
   "metadata": {
    "collapsed": false
   },
   "outputs": [
    {
     "data": {
      "text/html": [
       "<div>\n",
       "<table border=\"1\" class=\"dataframe\">\n",
       "  <thead>\n",
       "    <tr style=\"text-align: right;\">\n",
       "      <th></th>\n",
       "      <th>Congruent</th>\n",
       "      <th>Incongruent</th>\n",
       "    </tr>\n",
       "  </thead>\n",
       "  <tbody>\n",
       "    <tr>\n",
       "      <th>0</th>\n",
       "      <td>12.079</td>\n",
       "      <td>19.278</td>\n",
       "    </tr>\n",
       "    <tr>\n",
       "      <th>1</th>\n",
       "      <td>16.791</td>\n",
       "      <td>18.741</td>\n",
       "    </tr>\n",
       "    <tr>\n",
       "      <th>2</th>\n",
       "      <td>9.564</td>\n",
       "      <td>21.214</td>\n",
       "    </tr>\n",
       "    <tr>\n",
       "      <th>3</th>\n",
       "      <td>8.630</td>\n",
       "      <td>15.687</td>\n",
       "    </tr>\n",
       "    <tr>\n",
       "      <th>4</th>\n",
       "      <td>14.669</td>\n",
       "      <td>22.803</td>\n",
       "    </tr>\n",
       "    <tr>\n",
       "      <th>5</th>\n",
       "      <td>12.238</td>\n",
       "      <td>20.878</td>\n",
       "    </tr>\n",
       "    <tr>\n",
       "      <th>6</th>\n",
       "      <td>14.692</td>\n",
       "      <td>24.572</td>\n",
       "    </tr>\n",
       "    <tr>\n",
       "      <th>7</th>\n",
       "      <td>8.987</td>\n",
       "      <td>17.394</td>\n",
       "    </tr>\n",
       "    <tr>\n",
       "      <th>8</th>\n",
       "      <td>9.401</td>\n",
       "      <td>20.762</td>\n",
       "    </tr>\n",
       "    <tr>\n",
       "      <th>9</th>\n",
       "      <td>14.480</td>\n",
       "      <td>26.282</td>\n",
       "    </tr>\n",
       "    <tr>\n",
       "      <th>10</th>\n",
       "      <td>22.328</td>\n",
       "      <td>24.524</td>\n",
       "    </tr>\n",
       "    <tr>\n",
       "      <th>11</th>\n",
       "      <td>15.298</td>\n",
       "      <td>18.644</td>\n",
       "    </tr>\n",
       "    <tr>\n",
       "      <th>12</th>\n",
       "      <td>15.073</td>\n",
       "      <td>17.510</td>\n",
       "    </tr>\n",
       "    <tr>\n",
       "      <th>13</th>\n",
       "      <td>16.929</td>\n",
       "      <td>20.330</td>\n",
       "    </tr>\n",
       "    <tr>\n",
       "      <th>14</th>\n",
       "      <td>18.200</td>\n",
       "      <td>35.255</td>\n",
       "    </tr>\n",
       "    <tr>\n",
       "      <th>15</th>\n",
       "      <td>12.130</td>\n",
       "      <td>22.158</td>\n",
       "    </tr>\n",
       "    <tr>\n",
       "      <th>16</th>\n",
       "      <td>18.495</td>\n",
       "      <td>25.139</td>\n",
       "    </tr>\n",
       "    <tr>\n",
       "      <th>17</th>\n",
       "      <td>10.639</td>\n",
       "      <td>20.429</td>\n",
       "    </tr>\n",
       "    <tr>\n",
       "      <th>18</th>\n",
       "      <td>11.344</td>\n",
       "      <td>17.425</td>\n",
       "    </tr>\n",
       "    <tr>\n",
       "      <th>19</th>\n",
       "      <td>12.369</td>\n",
       "      <td>34.288</td>\n",
       "    </tr>\n",
       "    <tr>\n",
       "      <th>20</th>\n",
       "      <td>12.944</td>\n",
       "      <td>23.894</td>\n",
       "    </tr>\n",
       "    <tr>\n",
       "      <th>21</th>\n",
       "      <td>14.233</td>\n",
       "      <td>17.960</td>\n",
       "    </tr>\n",
       "    <tr>\n",
       "      <th>22</th>\n",
       "      <td>19.710</td>\n",
       "      <td>22.058</td>\n",
       "    </tr>\n",
       "    <tr>\n",
       "      <th>23</th>\n",
       "      <td>16.004</td>\n",
       "      <td>21.157</td>\n",
       "    </tr>\n",
       "  </tbody>\n",
       "</table>\n",
       "</div>"
      ],
      "text/plain": [
       "    Congruent  Incongruent\n",
       "0      12.079       19.278\n",
       "1      16.791       18.741\n",
       "2       9.564       21.214\n",
       "3       8.630       15.687\n",
       "4      14.669       22.803\n",
       "5      12.238       20.878\n",
       "6      14.692       24.572\n",
       "7       8.987       17.394\n",
       "8       9.401       20.762\n",
       "9      14.480       26.282\n",
       "10     22.328       24.524\n",
       "11     15.298       18.644\n",
       "12     15.073       17.510\n",
       "13     16.929       20.330\n",
       "14     18.200       35.255\n",
       "15     12.130       22.158\n",
       "16     18.495       25.139\n",
       "17     10.639       20.429\n",
       "18     11.344       17.425\n",
       "19     12.369       34.288\n",
       "20     12.944       23.894\n",
       "21     14.233       17.960\n",
       "22     19.710       22.058\n",
       "23     16.004       21.157"
      ]
     },
     "execution_count": 55,
     "metadata": {},
     "output_type": "execute_result"
    }
   ],
   "source": [
    "import pandas as pd\n",
    "import seaborn as sns\n",
    "import numpy as np\n",
    "import math\n",
    "# Loading the dataset\n",
    "dataset = 'stroopdata.csv'\n",
    "full_dataset = pd.read_csv(dataset)\n",
    "\n",
    "# Print the first lines\n",
    "full_dataset\n"
   ]
  },
  {
   "cell_type": "markdown",
   "metadata": {},
   "source": [
    "### 1. What is our independent variable? What is our dependent variable?\n",
    "\n",
    "The independent variable is the word condition (congruent or incongruent) \n",
    "The dependent variable is the time to respond in seconds for each of the 24 participants\n",
    "\n",
    "### 2. What is an appropriate set of hypotheses for this task? What kind of statistical test do you expect to perform? Justify your choices.\n",
    "\n",
    "The appropriate set of hyptheses for this task are the following:\n",
    "\n",
    "** Null Hypothesis H0 **: ( μi - μc = 0 ) There is no significant difference in the mean response time between viewing the congruent words and the incongruent words.\n",
    "\n",
    "** Ha - Alternative Hypothesis **: ( μi - μc ≠ 0 ) There is a significant difference in the mean response time between viewing the congruent words and the incongruent words.\n",
    "\n",
    "The **Dependent Sample two-tailed t-Test** is the appropriate for the following reasons:\n",
    "\n",
    "- this is the best suited statistical procedure used to determine whether the mean difference between two sets of observations is zero\n",
    "- we don't know σ for the population, so no z-test possible, instead we use the sample standard deviation.\n",
    "\n",
    "\n",
    "### 3. Report some descriptive statistics regarding this dataset. Include at least one measure of central tendency and at least one measure of variability.\n"
   ]
  },
  {
   "cell_type": "code",
   "execution_count": 56,
   "metadata": {
    "collapsed": false
   },
   "outputs": [
    {
     "name": "stdout",
     "output_type": "stream",
     "text": [
      "Central tendency measures:\n",
      "The congruent mean is:  14.051 sec.\n",
      "The incongruent mean is:  22.016 sec.\n",
      "The congruent values lies between  8.63  and  22.328\n",
      "The incongruent values lies between  15.687  and  35.255\n",
      "\n",
      "Variability measures:\n",
      "The congruent standard deviation is:  3.559 sec.\n",
      "The incongruent standard deviation is:  4.797 sec.\n"
     ]
    }
   ],
   "source": [
    "congruent = full_dataset['Congruent'] \n",
    "congruent_mean = round(congruent.mean(),3)\n",
    "congruent_std = round(congruent.std(),3)\n",
    "congruent_min = congruent.min()\n",
    "congruent_max = congruent.max()\n",
    "incongruent = full_dataset['Incongruent']\n",
    "incongruent_mean = round(incongruent.mean(),3)\n",
    "incongruent_std = round(incongruent.std(),3)\n",
    "incongruent_min = incongruent.min()\n",
    "incongruent_max = incongruent.max()\n",
    "print(\"Central tendency measures:\")\n",
    "print(\"The congruent mean is: \", congruent_mean, \"sec.\")\n",
    "print(\"The incongruent mean is: \", incongruent_mean, \"sec.\")\n",
    "print(\"The congruent values lies between \", congruent_min, \" and \", congruent_max)\n",
    "print(\"The incongruent values lies between \", incongruent_min, \" and \", incongruent_max)\n",
    "print(\"\")\n",
    "print(\"Variability measures:\")\n",
    "print(\"The congruent standard deviation is: \", congruent_std, \"sec.\")\n",
    "print(\"The incongruent standard deviation is: \", incongruent_std, \"sec.\")"
   ]
  },
  {
   "cell_type": "markdown",
   "metadata": {},
   "source": [
    "### 4. Provide one or two visualizations that show the distribution of the sample data. Write one or two sentences noting what you observe about the plot or plots."
   ]
  },
  {
   "cell_type": "code",
   "execution_count": 57,
   "metadata": {
    "collapsed": false
   },
   "outputs": [
    {
     "data": {
      "text/plain": [
       "[<matplotlib.text.Text at 0xc418cc0>, <matplotlib.text.Text at 0xc3b1160>]"
      ]
     },
     "execution_count": 57,
     "metadata": {},
     "output_type": "execute_result"
    },
    {
     "data": {
      "image/png": "[encoded data removed]",
      "text/plain": [
       "<matplotlib.figure.Figure at 0xc3b1390>"
      ]
     },
     "metadata": {},
     "output_type": "display_data"
    }
   ],
   "source": [
    "sns.set_style(\"whitegrid\")\n",
    "ax = sns.boxplot(data=full_dataset, width=0.2)\n",
    "ax.set(xlabel='Words', ylabel='Time to respond in sec.')"
   ]
  },
  {
   "cell_type": "markdown",
   "metadata": {},
   "source": [
    "The congruent sample has a wider range than the incongruent, but its means is lower than the incongruent test. We can notice 2 fliers for the incongruent test (at about 35sec.) which could indicate that the response time for a bigger sample could be higher. One last remark is that the mean of the congruent is outside the t-critical of the incongruent test.\n",
    "\n",
    "Overview of the results:\n",
    "\n",
    "|         | Congruent | Incongruent |\n",
    "| ------- | --------- | ----------- |\n",
    "| Mean    | 14.051 sec  | 22.016 sec      |\n",
    "| Std Dev.| 3.559 sec  | 4.797 sec      |\n",
    "| Min.    | 8.63 sec  | 15.687 sec  |\n",
    "| Max.    | 22.328 sec  | 35.255 sec|\n",
    "\n"
   ]
  },
  {
   "cell_type": "markdown",
   "metadata": {},
   "source": [
    "### 5. Now, perform the statistical test and report your results. What is your confidence level and your critical statistic value? Do you reject the null hypothesis or fail to reject it? Come to a conclusion in terms of the experiment task. Did the results match up with your expectations?\n",
    "\n",
    "For this statistical test, let's take a 90% confidence interval, so:\n",
    "\n",
    "Alpha = 0.1\n",
    "\n",
    "n = 24 (size of the sample)\n",
    "\n",
    "df= n -1 = 23 (degree of freedom)\n",
    "\n",
    "tp = +/- 1.714 (tail probability)\n",
    "\n",
    "We have to calculate the following t-statistic = PE /(s/square(n))\n",
    "PE = mean(incongruent)-mean(congruent)\n",
    "s = standard deviation of PE for the full dataset\n",
    "\n",
    "The sample mean of the difference: "
   ]
  },
  {
   "cell_type": "code",
   "execution_count": 65,
   "metadata": {
    "collapsed": false
   },
   "outputs": [
    {
     "name": "stdout",
     "output_type": "stream",
     "text": [
      "sample mean of the difference= 7.965\n"
     ]
    }
   ],
   "source": [
    "point_estimate = round((incongruent_mean - congruent_mean),3)\n",
    "print(\"sample mean of the difference=\",point_estimate)"
   ]
  },
  {
   "cell_type": "code",
   "execution_count": 66,
   "metadata": {
    "collapsed": true
   },
   "outputs": [],
   "source": [
    "#Diff = sample difference\n",
    "full_dataset['Diff'] = full_dataset['Incongruent'] - full_dataset['Congruent']"
   ]
  },
  {
   "cell_type": "code",
   "execution_count": 67,
   "metadata": {
    "collapsed": false
   },
   "outputs": [
    {
     "data": {
      "text/plain": [
       "4.865"
      ]
     },
     "execution_count": 67,
     "metadata": {},
     "output_type": "execute_result"
    }
   ],
   "source": [
    "s = round(np.std(full_dataset['Diff'],ddof=1),3)\n",
    "s"
   ]
  },
  {
   "cell_type": "code",
   "execution_count": 70,
   "metadata": {
    "collapsed": false
   },
   "outputs": [
    {
     "name": "stdout",
     "output_type": "stream",
     "text": [
      "t-statistic= 8.021\n"
     ]
    }
   ],
   "source": [
    "t = round(point_estimate/(s/math.sqrt(24)),3)\n",
    "print(\"t-statistic=\", t)"
   ]
  },
  {
   "cell_type": "markdown",
   "metadata": {},
   "source": [
    "So the \n",
    "t-statistic > t-critical\n",
    "8.021 > 1.714\n",
    "\n",
    "### Experiment task conclusion\n",
    "\n",
    "We can reject the Null Hypothesis stating that there is no significant difference in the mean response time between viewing the congruent words and the incongruent words. According to my own test, it took me longer to perform the incongruent test as for the congruent test. So the result of this experiment is in line with my expectations.\n"
   ]
  },
  {
   "cell_type": "markdown",
   "metadata": {},
   "source": [
    "### 6.Optional: What do you think is responsible for the effects observed? Can you think of an alternative or similar task that would result in a similar effect? Some research about the problem will be helpful for thinking about these two questions!\n",
    "\n",
    "To answer these questions, I found some references on google, see reference 5 and 6 in the list below. 2 theories try to explain these effects observed.\n",
    "1. Speed of processing theory: the interference occures because the brain reads faster than it recognises colour.\n",
    "2. Selective attention: naming colour requires more attention than reading words. Reading is an automatism,  it deosn't mttaer in waht oredr the ltteers in a wrod are, the olny iprmoetnt tihng is taht the frist and lsat ltteer be at the rghit pclae (ref. 7) whereas recognising colours requires focus. This might be due to practice as well: we read a lot more than we name colour in real life. Maybe a test with young kids not yet fluent in reading would show different results.\n",
    "\n",
    "Some alternative tests could be:\n",
    "- Turn the words upside down or rotate them 90 degrees.\n",
    "- Turn the words \"inside out.\"\n",
    "- Use non-color words such as \"dog\" or \"house.\"\n",
    "- Use nonsense words such as \"kiw\" or \"thoz.\"\n",
    "- Compare long words to short words.\n",
    "- Use emotional words such as \"sad\" or \"happy\" or \"depressed\" or \"angry.\"\n",
    "- Color only half of the word or color only the first and last letter of each word."
   ]
  },
  {
   "cell_type": "markdown",
   "metadata": {},
   "source": [
    "## References\n",
    "1. For the definition of the dependent sample t-test:\n",
    "http://www.statisticssolutions.com/manova-analysis-paired-sample-t-test/\n",
    "    \n",
    "2. Seaborn graph example: https://seaborn.pydata.org/generated/seaborn.boxplot.html#seaborn.boxplot\n",
    "\n",
    "3. Z-table: from [t-table](https://s3.amazonaws.com/udacity-hosted-downloads/t-table.jpg)\n",
    "\n",
    "4. Standard deviation calculation with numpy: https://docs.scipy.org/doc/numpy-1.13.0/reference/generated/numpy.std.html\n",
    "\n",
    "5. Alternative to stroop effect test : https://www.researchgate.net/publication/5987704_Alternative_to_the_Stroop_Color-Word_Test_for_Illiterate_Individuals\n",
    "\n",
    "6. https://faculty.washington.edu/chudler/words.html\n",
    "\n",
    "7. MRC cognition: https://www.mrc-cbu.cam.ac.uk/people/matt.davis/cmabridge/"
   ]
  }
 ],
 "metadata": {
  "kernelspec": {
   "display_name": "Python 3",
   "language": "python",
   "name": "python3"
  },
  "language_info": {
   "codemirror_mode": {
    "name": "ipython",
    "version": 3
   },
   "file_extension": ".py",
   "mimetype": "text/x-python",
   "name": "python",
   "nbconvert_exporter": "python",
   "pygments_lexer": "ipython3",
   "version": "3.6.0"
  }
 },
 "nbformat": 4,
 "nbformat_minor": 0
}
