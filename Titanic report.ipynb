{
 "cells": [
  {
   "cell_type": "markdown",
   "metadata": {},
   "source": [
    "\n",
    "# Introduction\n",
    "For this project, I decided to chosse the titanic project. It contains demographics and passenger information from 891 of the 2224 passengers and crew on board the Titanic. I will analyse the data and try to answer the following questions:\n",
    "1. what is the survival rate\n",
    "2. what is the survival rate based on one criteria (gender, age, social class)\n",
    "3. what is the survival rate based on 2 criterias (gender, age, social class)\n",
    "\n",
    "## Import the dataset\n",
    "First I import the data using the panda libray:"
   ]
  },
  {
   "cell_type": "code",
   "execution_count": 1,
   "metadata": {
    "collapsed": false
   },
   "outputs": [
    {
     "data": {
      "text/html": [
       "<div>\n",
       "<table border=\"1\" class=\"dataframe\">\n",
       "  <thead>\n",
       "    <tr style=\"text-align: right;\">\n",
       "      <th></th>\n",
       "      <th>PassengerId</th>\n",
       "      <th>Survived</th>\n",
       "      <th>Pclass</th>\n",
       "      <th>Name</th>\n",
       "      <th>Sex</th>\n",
       "      <th>Age</th>\n",
       "      <th>SibSp</th>\n",
       "      <th>Parch</th>\n",
       "      <th>Ticket</th>\n",
       "      <th>Fare</th>\n",
       "      <th>Cabin</th>\n",
       "      <th>Embarked</th>\n",
       "    </tr>\n",
       "  </thead>\n",
       "  <tbody>\n",
       "    <tr>\n",
       "      <th>0</th>\n",
       "      <td>1</td>\n",
       "      <td>0</td>\n",
       "      <td>3</td>\n",
       "      <td>Braund, Mr. Owen Harris</td>\n",
       "      <td>male</td>\n",
       "      <td>22.0</td>\n",
       "      <td>1</td>\n",
       "      <td>0</td>\n",
       "      <td>A/5 21171</td>\n",
       "      <td>7.2500</td>\n",
       "      <td>NaN</td>\n",
       "      <td>S</td>\n",
       "    </tr>\n",
       "    <tr>\n",
       "      <th>1</th>\n",
       "      <td>2</td>\n",
       "      <td>1</td>\n",
       "      <td>1</td>\n",
       "      <td>Cumings, Mrs. John Bradley (Florence Briggs Th...</td>\n",
       "      <td>female</td>\n",
       "      <td>38.0</td>\n",
       "      <td>1</td>\n",
       "      <td>0</td>\n",
       "      <td>PC 17599</td>\n",
       "      <td>71.2833</td>\n",
       "      <td>C85</td>\n",
       "      <td>C</td>\n",
       "    </tr>\n",
       "    <tr>\n",
       "      <th>2</th>\n",
       "      <td>3</td>\n",
       "      <td>1</td>\n",
       "      <td>3</td>\n",
       "      <td>Heikkinen, Miss. Laina</td>\n",
       "      <td>female</td>\n",
       "      <td>26.0</td>\n",
       "      <td>0</td>\n",
       "      <td>0</td>\n",
       "      <td>STON/O2. 3101282</td>\n",
       "      <td>7.9250</td>\n",
       "      <td>NaN</td>\n",
       "      <td>S</td>\n",
       "    </tr>\n",
       "    <tr>\n",
       "      <th>3</th>\n",
       "      <td>4</td>\n",
       "      <td>1</td>\n",
       "      <td>1</td>\n",
       "      <td>Futrelle, Mrs. Jacques Heath (Lily May Peel)</td>\n",
       "      <td>female</td>\n",
       "      <td>35.0</td>\n",
       "      <td>1</td>\n",
       "      <td>0</td>\n",
       "      <td>113803</td>\n",
       "      <td>53.1000</td>\n",
       "      <td>C123</td>\n",
       "      <td>S</td>\n",
       "    </tr>\n",
       "    <tr>\n",
       "      <th>4</th>\n",
       "      <td>5</td>\n",
       "      <td>0</td>\n",
       "      <td>3</td>\n",
       "      <td>Allen, Mr. William Henry</td>\n",
       "      <td>male</td>\n",
       "      <td>35.0</td>\n",
       "      <td>0</td>\n",
       "      <td>0</td>\n",
       "      <td>373450</td>\n",
       "      <td>8.0500</td>\n",
       "      <td>NaN</td>\n",
       "      <td>S</td>\n",
       "    </tr>\n",
       "  </tbody>\n",
       "</table>\n",
       "</div>"
      ],
      "text/plain": [
       "   PassengerId  Survived  Pclass  \\\n",
       "0            1         0       3   \n",
       "1            2         1       1   \n",
       "2            3         1       3   \n",
       "3            4         1       1   \n",
       "4            5         0       3   \n",
       "\n",
       "                                                Name     Sex   Age  SibSp  \\\n",
       "0                            Braund, Mr. Owen Harris    male  22.0      1   \n",
       "1  Cumings, Mrs. John Bradley (Florence Briggs Th...  female  38.0      1   \n",
       "2                             Heikkinen, Miss. Laina  female  26.0      0   \n",
       "3       Futrelle, Mrs. Jacques Heath (Lily May Peel)  female  35.0      1   \n",
       "4                           Allen, Mr. William Henry    male  35.0      0   \n",
       "\n",
       "   Parch            Ticket     Fare Cabin Embarked  \n",
       "0      0         A/5 21171   7.2500   NaN        S  \n",
       "1      0          PC 17599  71.2833   C85        C  \n",
       "2      0  STON/O2. 3101282   7.9250   NaN        S  \n",
       "3      0            113803  53.1000  C123        S  \n",
       "4      0            373450   8.0500   NaN        S  "
      ]
     },
     "execution_count": 1,
     "metadata": {},
     "output_type": "execute_result"
    }
   ],
   "source": [
    "\n",
    "#import numpy as np\n",
    "import pandas as pd\n",
    "import seaborn as sns #for nice graphs\n",
    "import matplotlib.pyplot as plt # for standard graphs\n",
    "import matplotlib as mpl\n",
    "%matplotlib inline\n",
    "\n",
    "# Loading the dataset\n",
    "dataset = 'titanic_data.csv'\n",
    "full_dataset = pd.read_csv(dataset)\n",
    "\n",
    "# Print the first lines\n",
    "full_dataset.head()"
   ]
  },
  {
   "cell_type": "markdown",
   "metadata": {
    "collapsed": true
   },
   "source": [
    "From the Kaggle website, each column is as follow:\n",
    "- **Survived**: Outcome of survival (0 = No; 1 = Yes)\n",
    "- **Pclass**: Socio-economic class (1 = Upper class; 2 = Middle class; 3 = Lower class)\n",
    "- **Name**: Name of passenger\n",
    "- **Sex**: Sex of the passenger\n",
    "- **Age**: Age of the passenger (Some entries contain `NaN`)\n",
    "- **SibSp**: Number of siblings and spouses of the passenger aboard\n",
    "- **Parch**: Number of parents and children of the passenger aboard\n",
    "- **Ticket**: Ticket number of the passenger\n",
    "- **Fare**: Fare paid by the passenger\n",
    "- **Cabin** Cabin number of the passenger (Some entries contain `NaN`)\n",
    "- **Embarked**: Port of embarkation of the passenger (C = Cherbourg; Q = Queenstown; S = Southampton)\n",
    "\n",
    "age: Age is fractional if less than 1. If the age is estimated, is it in the form of xx.5\n",
    "\n",
    "sibsp: The dataset defines family relations in this way...\n",
    "Sibling = brother, sister, stepbrother, stepsister\n",
    "Spouse = husband, wife (mistresses and fiancés were ignored)\n",
    "\n",
    "parch: The dataset defines family relations in this way...\n",
    "Parent = mother, father\n",
    "Child = daughter, son, stepdaughter, stepson\n",
    "Some children travelled only with a nanny, therefore parch=0 for them.\n",
    "\n",
    "## Data check\n",
    "\n",
    "Let's check the data"
   ]
  },
  {
   "cell_type": "code",
   "execution_count": 2,
   "metadata": {
    "collapsed": false
   },
   "outputs": [
    {
     "data": {
      "text/html": [
       "<div>\n",
       "<table border=\"1\" class=\"dataframe\">\n",
       "  <thead>\n",
       "    <tr style=\"text-align: right;\">\n",
       "      <th></th>\n",
       "      <th>0</th>\n",
       "    </tr>\n",
       "  </thead>\n",
       "  <tbody>\n",
       "    <tr>\n",
       "      <th>PassengerId</th>\n",
       "      <td>891</td>\n",
       "    </tr>\n",
       "    <tr>\n",
       "      <th>Survived</th>\n",
       "      <td>891</td>\n",
       "    </tr>\n",
       "    <tr>\n",
       "      <th>Pclass</th>\n",
       "      <td>891</td>\n",
       "    </tr>\n",
       "    <tr>\n",
       "      <th>Name</th>\n",
       "      <td>891</td>\n",
       "    </tr>\n",
       "    <tr>\n",
       "      <th>Sex</th>\n",
       "      <td>891</td>\n",
       "    </tr>\n",
       "    <tr>\n",
       "      <th>Age</th>\n",
       "      <td>714</td>\n",
       "    </tr>\n",
       "    <tr>\n",
       "      <th>SibSp</th>\n",
       "      <td>891</td>\n",
       "    </tr>\n",
       "    <tr>\n",
       "      <th>Parch</th>\n",
       "      <td>891</td>\n",
       "    </tr>\n",
       "    <tr>\n",
       "      <th>Ticket</th>\n",
       "      <td>891</td>\n",
       "    </tr>\n",
       "    <tr>\n",
       "      <th>Fare</th>\n",
       "      <td>891</td>\n",
       "    </tr>\n",
       "    <tr>\n",
       "      <th>Cabin</th>\n",
       "      <td>204</td>\n",
       "    </tr>\n",
       "    <tr>\n",
       "      <th>Embarked</th>\n",
       "      <td>889</td>\n",
       "    </tr>\n",
       "  </tbody>\n",
       "</table>\n",
       "</div>"
      ],
      "text/plain": [
       "               0\n",
       "PassengerId  891\n",
       "Survived     891\n",
       "Pclass       891\n",
       "Name         891\n",
       "Sex          891\n",
       "Age          714\n",
       "SibSp        891\n",
       "Parch        891\n",
       "Ticket       891\n",
       "Fare         891\n",
       "Cabin        204\n",
       "Embarked     889"
      ]
     },
     "execution_count": 2,
     "metadata": {},
     "output_type": "execute_result"
    }
   ],
   "source": [
    "pd.DataFrame(full_dataset.count())"
   ]
  },
  {
   "cell_type": "markdown",
   "metadata": {},
   "source": [
    "So we have 891 entries as expected, only 714 for the age and 204 for the cabin data.\n",
    "To anaswer the questions, we can clean the data we don't need. For the \"age\" information, I will filter the data and keep only the 714 with age information.\n",
    "\n",
    "Now I will create a new subset of data with only the data I'm interested in."
   ]
  },
  {
   "cell_type": "code",
   "execution_count": 3,
   "metadata": {
    "collapsed": false
   },
   "outputs": [
    {
     "data": {
      "text/html": [
       "<div>\n",
       "<table border=\"1\" class=\"dataframe\">\n",
       "  <thead>\n",
       "    <tr style=\"text-align: right;\">\n",
       "      <th></th>\n",
       "      <th>PassengerId</th>\n",
       "      <th>Survived</th>\n",
       "      <th>Pclass</th>\n",
       "      <th>Sex</th>\n",
       "      <th>Age</th>\n",
       "      <th>SibSp</th>\n",
       "      <th>Parch</th>\n",
       "    </tr>\n",
       "  </thead>\n",
       "  <tbody>\n",
       "    <tr>\n",
       "      <th>0</th>\n",
       "      <td>1</td>\n",
       "      <td>0</td>\n",
       "      <td>3</td>\n",
       "      <td>male</td>\n",
       "      <td>22.0</td>\n",
       "      <td>1</td>\n",
       "      <td>0</td>\n",
       "    </tr>\n",
       "    <tr>\n",
       "      <th>1</th>\n",
       "      <td>2</td>\n",
       "      <td>1</td>\n",
       "      <td>1</td>\n",
       "      <td>female</td>\n",
       "      <td>38.0</td>\n",
       "      <td>1</td>\n",
       "      <td>0</td>\n",
       "    </tr>\n",
       "    <tr>\n",
       "      <th>2</th>\n",
       "      <td>3</td>\n",
       "      <td>1</td>\n",
       "      <td>3</td>\n",
       "      <td>female</td>\n",
       "      <td>26.0</td>\n",
       "      <td>0</td>\n",
       "      <td>0</td>\n",
       "    </tr>\n",
       "    <tr>\n",
       "      <th>3</th>\n",
       "      <td>4</td>\n",
       "      <td>1</td>\n",
       "      <td>1</td>\n",
       "      <td>female</td>\n",
       "      <td>35.0</td>\n",
       "      <td>1</td>\n",
       "      <td>0</td>\n",
       "    </tr>\n",
       "    <tr>\n",
       "      <th>4</th>\n",
       "      <td>5</td>\n",
       "      <td>0</td>\n",
       "      <td>3</td>\n",
       "      <td>male</td>\n",
       "      <td>35.0</td>\n",
       "      <td>0</td>\n",
       "      <td>0</td>\n",
       "    </tr>\n",
       "  </tbody>\n",
       "</table>\n",
       "</div>"
      ],
      "text/plain": [
       "   PassengerId  Survived  Pclass     Sex   Age  SibSp  Parch\n",
       "0            1         0       3    male  22.0      1      0\n",
       "1            2         1       1  female  38.0      1      0\n",
       "2            3         1       3  female  26.0      0      0\n",
       "3            4         1       1  female  35.0      1      0\n",
       "4            5         0       3    male  35.0      0      0"
      ]
     },
     "execution_count": 3,
     "metadata": {},
     "output_type": "execute_result"
    }
   ],
   "source": [
    "# Remove the unwanted columns\n",
    "full_dataset_cleaned = full_dataset.drop(['Name','Ticket','Cabin','Fare','Embarked'], axis=1)\n",
    "full_dataset_cleaned.head()"
   ]
  },
  {
   "cell_type": "markdown",
   "metadata": {},
   "source": [
    "## Answer to question 1: what is the survival rate?\n",
    "Let's start with an easy question: what is the survival rate?\n",
    "This is the breakdown of survival date:"
   ]
  },
  {
   "cell_type": "code",
   "execution_count": 4,
   "metadata": {
    "collapsed": false
   },
   "outputs": [
    {
     "data": {
      "text/plain": [
       "<matplotlib.text.Text at 0xa0e9400>"
      ]
     },
     "execution_count": 4,
     "metadata": {},
     "output_type": "execute_result"
    },
    {
     "data": {
      "text/plain": [
       "<matplotlib.figure.Figure at 0x9fc5dd8>"
      ]
     },
     "metadata": {},
     "output_type": "display_data"
    },
    {
     "data": {
      "image/png": "[encoded data removed]",
      "text/plain": [
       "<matplotlib.figure.Figure at 0x8d7f780>"
      ]
     },
     "metadata": {},
     "output_type": "display_data"
    }
   ],
   "source": [
    "\n",
    "mpl.style.use('seaborn')\n",
    "plt.figure(figsize=(8,6))\n",
    "fig, axis = plt.subplots()\n",
    "full_dataset_cleaned.Survived.value_counts().plot(kind='bar', color=\"rg\")\n",
    "axis.set_xlim(-1, len(full_dataset_cleaned.Survived.value_counts())) \n",
    "plt.title(\"Survival Breakdown (0 = Died, 1 = Survived)\")"
   ]
  },
  {
   "cell_type": "code",
   "execution_count": 5,
   "metadata": {
    "collapsed": false
   },
   "outputs": [
    {
     "name": "stdout",
     "output_type": "stream",
     "text": [
      "The global survival rate is 0.3838383838383838%\n"
     ]
    },
    {
     "data": {
      "text/plain": [
       "0    549\n",
       "1    342\n",
       "Name: Survived, dtype: int64"
      ]
     },
     "execution_count": 5,
     "metadata": {},
     "output_type": "execute_result"
    }
   ],
   "source": [
    "survived = (full_dataset_cleaned[full_dataset_cleaned['Survived'] == True]).count()\n",
    "print(\"The global survival rate is {}%\".format(survived['Survived']/full_dataset_cleaned['Survived'].count()))\n",
    "full_dataset_cleaned.Survived.value_counts()"
   ]
  },
  {
   "cell_type": "markdown",
   "metadata": {},
   "source": [
    "## Answer to question 2: what is the survival rate based on one criteria (gender, age, social class)?\n",
    "\n",
    "### Impact of gender\n",
    "\n",
    "Now let's see the impact of the gender to this survival rate.\n"
   ]
  },
  {
   "cell_type": "code",
   "execution_count": 6,
   "metadata": {
    "collapsed": false
   },
   "outputs": [
    {
     "name": "stdout",
     "output_type": "stream",
     "text": [
      "        Survived\n",
      "Sex             \n",
      "female  0.742038\n",
      "male    0.188908\n",
      "As we can see, women had a higher rate of survival\n"
     ]
    },
    {
     "data": {
      "image/png": "[encoded data removed]",
      "text/plain": [
       "<matplotlib.figure.Figure at 0x9e96278>"
      ]
     },
     "metadata": {},
     "output_type": "display_data"
    }
   ],
   "source": [
    "survivability_per_sex_percentage = pd.DataFrame(full_dataset_cleaned.groupby(['Sex'])['Survived'].mean())\n",
    "print(survivability_per_sex_percentage)\n",
    "survivability_per_sex_percentage.plot(kind='bar', color=\"rb\")\n",
    "print('As we can see, women had a higher rate of survival')"
   ]
  },
  {
   "cell_type": "markdown",
   "metadata": {},
   "source": [
    "### Impact of the social class"
   ]
  },
  {
   "cell_type": "code",
   "execution_count": 7,
   "metadata": {
    "collapsed": false
   },
   "outputs": [
    {
     "name": "stdout",
     "output_type": "stream",
     "text": [
      "Pclass          1         2         3\n",
      "Survived  0.62963  0.472826  0.242363\n"
     ]
    },
    {
     "data": {
      "image/png": "[encoded data removed]",
      "text/plain": [
       "<matplotlib.figure.Figure at 0xa1c0d30>"
      ]
     },
     "metadata": {},
     "output_type": "display_data"
    }
   ],
   "source": [
    "survivability_per_class_percentage= pd.DataFrame(full_dataset_cleaned.groupby('Pclass')['Survived'].mean()).T\n",
    "print(survivability_per_class_percentage)\n",
    "\n",
    "def visualize_surv_barplot(df):\n",
    "    ax = sns.barplot(data=df)\n",
    "    ax.set_ylabel(\"Survivability per class\")\n",
    "    \n",
    "visualize_surv_barplot(survivability_per_class_percentage)"
   ]
  },
  {
   "cell_type": "markdown",
   "metadata": {},
   "source": [
    "The survival rate based on the single criteria \"PClass\", we can conclude that people travelling in the first class had a much better chance of survival (due to the fact that the "
   ]
  },
  {
   "cell_type": "markdown",
   "metadata": {},
   "source": [
    "### Impact of the age"
   ]
  },
  {
   "cell_type": "code",
   "execution_count": 8,
   "metadata": {
    "collapsed": false
   },
   "outputs": [
    {
     "data": {
      "text/html": [
       "<div>\n",
       "<table border=\"1\" class=\"dataframe\">\n",
       "  <thead>\n",
       "    <tr style=\"text-align: right;\">\n",
       "      <th></th>\n",
       "      <th>PassengerId</th>\n",
       "      <th>Survived</th>\n",
       "      <th>Pclass</th>\n",
       "      <th>Sex</th>\n",
       "      <th>Age</th>\n",
       "      <th>SibSp</th>\n",
       "      <th>Parch</th>\n",
       "      <th>AgeGroup</th>\n",
       "    </tr>\n",
       "  </thead>\n",
       "  <tbody>\n",
       "    <tr>\n",
       "      <th>0</th>\n",
       "      <td>1</td>\n",
       "      <td>0</td>\n",
       "      <td>3</td>\n",
       "      <td>male</td>\n",
       "      <td>22.0</td>\n",
       "      <td>1</td>\n",
       "      <td>0</td>\n",
       "      <td>adult</td>\n",
       "    </tr>\n",
       "    <tr>\n",
       "      <th>1</th>\n",
       "      <td>2</td>\n",
       "      <td>1</td>\n",
       "      <td>1</td>\n",
       "      <td>female</td>\n",
       "      <td>38.0</td>\n",
       "      <td>1</td>\n",
       "      <td>0</td>\n",
       "      <td>adult</td>\n",
       "    </tr>\n",
       "    <tr>\n",
       "      <th>2</th>\n",
       "      <td>3</td>\n",
       "      <td>1</td>\n",
       "      <td>3</td>\n",
       "      <td>female</td>\n",
       "      <td>26.0</td>\n",
       "      <td>0</td>\n",
       "      <td>0</td>\n",
       "      <td>adult</td>\n",
       "    </tr>\n",
       "    <tr>\n",
       "      <th>3</th>\n",
       "      <td>4</td>\n",
       "      <td>1</td>\n",
       "      <td>1</td>\n",
       "      <td>female</td>\n",
       "      <td>35.0</td>\n",
       "      <td>1</td>\n",
       "      <td>0</td>\n",
       "      <td>adult</td>\n",
       "    </tr>\n",
       "    <tr>\n",
       "      <th>4</th>\n",
       "      <td>5</td>\n",
       "      <td>0</td>\n",
       "      <td>3</td>\n",
       "      <td>male</td>\n",
       "      <td>35.0</td>\n",
       "      <td>0</td>\n",
       "      <td>0</td>\n",
       "      <td>adult</td>\n",
       "    </tr>\n",
       "  </tbody>\n",
       "</table>\n",
       "</div>"
      ],
      "text/plain": [
       "   PassengerId  Survived  Pclass     Sex   Age  SibSp  Parch AgeGroup\n",
       "0            1         0       3    male  22.0      1      0    adult\n",
       "1            2         1       1  female  38.0      1      0    adult\n",
       "2            3         1       3  female  26.0      0      0    adult\n",
       "3            4         1       1  female  35.0      1      0    adult\n",
       "4            5         0       3    male  35.0      0      0    adult"
      ]
     },
     "execution_count": 8,
     "metadata": {},
     "output_type": "execute_result"
    }
   ],
   "source": [
    "\n",
    "# To visualize the survival rate based on age, we need to split the age column into categories. \n",
    "# For this, we will add a column \"AgeGroup\" to the dataset with the following groups:\n",
    "# Baby : 0 to 2\n",
    "# Child : 2 to 12\n",
    "# Teenage: 12 to 18\n",
    "# Adult: 18 to 60\n",
    "# Senior: > 60\n",
    "full_dataset_cleaned['AgeGroup'] =  pd.cut(full_dataset_cleaned['Age'], [0,2, 12, 18, 59, 100], labels=[\"baby\", \"child\", \"teenager\",\"adult\", \"senior\"])\n",
    "full_dataset_cleaned.head()"
   ]
  },
  {
   "cell_type": "code",
   "execution_count": 9,
   "metadata": {
    "collapsed": false
   },
   "outputs": [
    {
     "name": "stdout",
     "output_type": "stream",
     "text": [
      "          Survived\n",
      "AgeGroup          \n",
      "baby      0.625000\n",
      "child     0.555556\n",
      "teenager  0.428571\n",
      "adult     0.387978\n",
      "senior    0.269231\n",
      "As we can see, the survival rate is highly depending on the age group: the younger you are, the better chance to survive you have\n"
     ]
    },
    {
     "data": {
      "image/png": "[encoded data removed]",
      "text/plain": [
       "<matplotlib.figure.Figure at 0xa3e6ac8>"
      ]
     },
     "metadata": {},
     "output_type": "display_data"
    }
   ],
   "source": [
    "survivability_per_age_percentage = pd.DataFrame(full_dataset_cleaned.groupby(['AgeGroup'])['Survived'].mean())\n",
    "print(survivability_per_age_percentage)\n",
    "survivability_per_age_percentage.plot(kind='bar', color=\"rbgym\")\n",
    "print('As we can see, the survival rate is highly depending on the age group: the younger you are, the better chance to survive you have')"
   ]
  },
  {
   "cell_type": "markdown",
   "metadata": {},
   "source": [
    "### Impact of  Parent/children criteria"
   ]
  },
  {
   "cell_type": "code",
   "execution_count": 19,
   "metadata": {
    "collapsed": false
   },
   "outputs": [
    {
     "name": "stdout",
     "output_type": "stream",
     "text": [
      "       Survived\n",
      "Parch          \n",
      "0      0.343658\n",
      "1      0.550847\n",
      "2      0.500000\n",
      "3      0.600000\n",
      "4      0.000000\n",
      "5      0.200000\n",
      "6      0.000000\n",
      "people with parent/children on board had a better chance of surviving between 1 and 3. Above 4 the survivability rates goes down.\n"
     ]
    },
    {
     "data": {
      "image/png": "[encoded data removed]",
      "text/plain": [
       "<matplotlib.figure.Figure at 0xb784d30>"
      ]
     },
     "metadata": {},
     "output_type": "display_data"
    }
   ],
   "source": [
    "survivability_per_parch_percentage = pd.DataFrame(full_dataset_cleaned.groupby(['Parch'])['Survived'].mean())\n",
    "print(survivability_per_parch_percentage)\n",
    "survivability_per_parch_percentage.plot(kind='bar', color=\"rbgym\")\n",
    "print('people with parent/children on board had a better chance of surviving between 1 and 3. Above 4 the survivability rates goes down.')"
   ]
  },
  {
   "cell_type": "markdown",
   "metadata": {},
   "source": [
    "### Impact of Sibling/Partner criteria "
   ]
  },
  {
   "cell_type": "code",
   "execution_count": 20,
   "metadata": {
    "collapsed": false
   },
   "outputs": [
    {
     "name": "stdout",
     "output_type": "stream",
     "text": [
      "       Survived\n",
      "SibSp          \n",
      "0      0.345395\n",
      "1      0.535885\n",
      "2      0.464286\n",
      "3      0.250000\n",
      "4      0.166667\n",
      "5      0.000000\n",
      "8      0.000000\n",
      "people with parent/children on board had a better chance of surviving between 1 and 3. Above 4 the survivability rates goes down.\n"
     ]
    },
    {
     "data": {
      "image/png": "[encoded data removed]",
      "text/plain": [
       "<matplotlib.figure.Figure at 0xbb055f8>"
      ]
     },
     "metadata": {},
     "output_type": "display_data"
    }
   ],
   "source": [
    "survivability_per_sibsp_percentage = pd.DataFrame(full_dataset_cleaned.groupby(['SibSp'])['Survived'].mean())\n",
    "print(survivability_per_sibsp_percentage)\n",
    "survivability_per_sibsp_percentage.plot(kind='bar', color=\"rbgym\")\n",
    "print('people with parent/children on board had a better chance of surviving between 1 and 3. Above 4 the survivability rates goes down.')"
   ]
  },
  {
   "cell_type": "markdown",
   "metadata": {},
   "source": [
    "# Answer to question 3: what is the survival rate based on two criterias (gender, age, social class)?\n",
    "## Criteria (Gender / Social class)"
   ]
  },
  {
   "cell_type": "code",
   "execution_count": 10,
   "metadata": {
    "collapsed": false
   },
   "outputs": [
    {
     "name": "stdout",
     "output_type": "stream",
     "text": [
      "               Survived\n",
      "Pclass Sex             \n",
      "1      female  0.968085\n",
      "       male    0.368852\n",
      "2      female  0.921053\n",
      "       male    0.157407\n",
      "3      female  0.500000\n",
      "       male    0.135447\n",
      "As we can see, women had a higher rate of survival in the first and second class\n"
     ]
    },
    {
     "data": {
      "image/png": "[encoded data removed]",
      "text/plain": [
       "<matplotlib.figure.Figure at 0xb7d37f0>"
      ]
     },
     "metadata": {},
     "output_type": "display_data"
    }
   ],
   "source": [
    "survivability_per_sex_class_percentage = pd.DataFrame(full_dataset_cleaned.groupby(['Pclass', 'Sex',])['Survived'].mean())\n",
    "print(survivability_per_sex_class_percentage)\n",
    "survivability_per_sex_class_percentage.plot(kind='bar', color=\"rb\")\n",
    "print('As we can see, women had a higher rate of survival in the first and second class')"
   ]
  },
  {
   "cell_type": "markdown",
   "metadata": {},
   "source": [
    "## Criteria (Gender / Age group)"
   ]
  },
  {
   "cell_type": "code",
   "execution_count": 11,
   "metadata": {
    "collapsed": false
   },
   "outputs": [
    {
     "name": "stdout",
     "output_type": "stream",
     "text": [
      "Let's have a look at the total number of person per group to assess the reprentativity of the %\n",
      "                   Survived\n",
      "AgeGroup Survived          \n",
      "baby     0                9\n",
      "         1               15\n",
      "child    0               20\n",
      "         1               25\n",
      "teenager 0               40\n",
      "         1               30\n",
      "adult    0              336\n",
      "         1              213\n",
      "senior   0               19\n",
      "         1                7\n",
      "                 Survived\n",
      "AgeGroup Sex             \n",
      "baby     female  0.600000\n",
      "         male    0.642857\n",
      "child    female  0.590909\n",
      "         male    0.521739\n",
      "teenager female  0.750000\n",
      "         male    0.088235\n",
      "adult    female  0.777778\n",
      "         male    0.183333\n",
      "senior   female  1.000000\n",
      "         male    0.136364\n",
      "As we can see, women had a higher rate of survival independently of the age up to 12 years old, after 12 years old, the survival rate is closed the survival rate based only on the criteria \"Sex\".\n"
     ]
    },
    {
     "data": {
      "image/png": "[encoded data removed]",
      "text/plain": [
       "<matplotlib.figure.Figure at 0xa1eccc0>"
      ]
     },
     "metadata": {},
     "output_type": "display_data"
    }
   ],
   "source": [
    "survivability_per_sex_AgeGroup_percentage = pd.DataFrame(full_dataset_cleaned.groupby(['AgeGroup', 'Sex',])['Survived'].mean())\n",
    "survivability_per_sex_AgeGroup_count = pd.DataFrame(full_dataset_cleaned.groupby(['AgeGroup','Survived'])['Survived'].count())\n",
    "\n",
    "print('Let\\'s have a look at the total number of person per group to assess the reprentativity of the %')\n",
    "print(survivability_per_sex_AgeGroup_count)\n",
    "\n",
    "print(survivability_per_sex_AgeGroup_percentage)\n",
    "survivability_per_sex_AgeGroup_percentage.plot(kind='bar', color=\"rb\")\n",
    "print('As we can see, women had a higher rate of survival independently of the age up to 12 years old, after 12 years old, the survival rate is closed the survival rate based only on the criteria \"Sex\".')"
   ]
  },
  {
   "cell_type": "markdown",
   "metadata": {},
   "source": [
    "### Criteria (Age group / Class)"
   ]
  },
  {
   "cell_type": "code",
   "execution_count": 12,
   "metadata": {
    "collapsed": false
   },
   "outputs": [
    {
     "name": "stdout",
     "output_type": "stream",
     "text": [
      "                 Survived\n",
      "Pclass AgeGroup          \n",
      "1      baby      0.500000\n",
      "       child     1.000000\n",
      "       teenager  0.916667\n",
      "       adult     0.673203\n",
      "       senior    0.294118\n",
      "2      baby      1.000000\n",
      "       child     1.000000\n",
      "       teenager  0.500000\n",
      "       adult     0.421429\n",
      "       senior    0.250000\n",
      "3      baby      0.466667\n",
      "       child     0.393939\n",
      "       teenager  0.282609\n",
      "       adult     0.199219\n",
      "       senior    0.200000\n",
      "The trend of both criteria has a cumulative effect, and does not show anything noticeable.\n"
     ]
    },
    {
     "data": {
      "image/png": "[encoded data removed]",
      "text/plain": [
       "<matplotlib.figure.Figure at 0xb7bcc18>"
      ]
     },
     "metadata": {},
     "output_type": "display_data"
    }
   ],
   "source": [
    "survivability_per_AgeGroup_Class_percentage = pd.DataFrame(full_dataset_cleaned.groupby(['Pclass','AgeGroup'])['Survived'].mean())\n",
    "print(survivability_per_AgeGroup_Class_percentage)\n",
    "survivability_per_AgeGroup_Class_percentage.plot(kind='bar', color=\"rbgym\")\n",
    "print('The trend of both criteria has a cumulative effect, and does not show anything noticeable.')"
   ]
  },
  {
   "cell_type": "markdown",
   "metadata": {},
   "source": [
    "### Criteria (Age group / Class)"
   ]
  },
  {
   "cell_type": "code",
   "execution_count": 27,
   "metadata": {
    "collapsed": false
   },
   "outputs": [
    {
     "name": "stdout",
     "output_type": "stream",
     "text": [
      "              Survived\n",
      "Parch Sex             \n",
      "0     female  0.788660\n",
      "      male    0.165289\n",
      "1     female  0.766667\n",
      "      male    0.327586\n",
      "2     female  0.612245\n",
      "      male    0.322581\n",
      "3     female  0.750000\n",
      "      male    0.000000\n",
      "4     female  0.000000\n",
      "      male    0.000000\n",
      "5     female  0.250000\n",
      "      male    0.000000\n",
      "6     female  0.000000\n",
      "The trend of both criteria has a cumulative effect, and does not show anything noticeable.\n"
     ]
    },
    {
     "data": {
      "image/png": "[encoded data removed]",
      "text/plain": [
       "<matplotlib.figure.Figure at 0xb8d6ba8>"
      ]
     },
     "metadata": {},
     "output_type": "display_data"
    }
   ],
   "source": [
    "survivability_per_PArcSex_Class_percentage = pd.DataFrame(full_dataset_cleaned.groupby(['Parch','Sex'])['Survived'].mean())\n",
    "print(survivability_per_PArcSex_Class_percentage)\n",
    "survivability_per_PArcSex_Class_percentage.plot(kind='bar', color=\"rbgym\")\n",
    "print('The fact to have parent/child on board has few effect on the survivability rate for Women, but for male, to have child/parent on board raises the chance to survive')"
   ]
  },
  {
   "cell_type": "markdown",
   "metadata": {},
   "source": [
    "# Conclusion\n",
    "As a first conclusion that the main drivers to survive are:\n",
    "1) the age (below 12)\n",
    "2) the sex (to be a female or a boy under 12 years old)\n",
    "3) the social class (to be in first class is better)\n",
    "4) the parent/child criteria\n",
    "\n",
    "The best survivability is for a woman, belonging to the first class (where the safety boats are sufficient), with a partner on board, and with one to two children.\n"
   ]
  }
 ],
 "metadata": {
  "kernelspec": {
   "display_name": "Python 3",
   "language": "python",
   "name": "python3"
  },
  "language_info": {
   "codemirror_mode": {
    "name": "ipython",
    "version": 3
   },
   "file_extension": ".py",
   "mimetype": "text/x-python",
   "name": "python",
   "nbconvert_exporter": "python",
   "pygments_lexer": "ipython3",
   "version": "3.6.0"
  }
 },
 "nbformat": 4,
 "nbformat_minor": 2
}
