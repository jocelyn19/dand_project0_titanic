{
 "cells": [
  {
   "cell_type": "markdown",
   "metadata": {},
   "source": [
    "\n",
    "# Introduction\n",
    "For this project, I decided to chosse the titanic project. It contains demographics and passenger information from 891 of the 2224 passengers and crew on board the Titanic. The dataset can be found here : https://d17h27t6h515a5.cloudfront.net/topher/2016/September/57e9a84c_titanic-data/titanic-data.csv\n",
    "\n",
    "I will analyse the data and try to answer the following questions:\n",
    "1. what is the survival rate\n",
    "2. what is the survival rate based on one criteria (gender, age, social class)\n",
    "3. what is the survival rate based on 2 criterias (gender, age, social class)\n",
    "\n",
    "As a conclusion, what is the best combination of criterias to have the best survivability rate.\n",
    "\n",
    "## Import the dataset\n",
    "First I import the data using the panda libray:\n"
   ]
  },
  {
   "cell_type": "code",
   "execution_count": 1,
   "metadata": {
    "collapsed": false
   },
   "outputs": [
    {
     "data": {
      "text/html": [
       "<div>\n",
       "<table border=\"1\" class=\"dataframe\">\n",
       "  <thead>\n",
       "    <tr style=\"text-align: right;\">\n",
       "      <th></th>\n",
       "      <th>PassengerId</th>\n",
       "      <th>Survived</th>\n",
       "      <th>Pclass</th>\n",
       "      <th>Name</th>\n",
       "      <th>Sex</th>\n",
       "      <th>Age</th>\n",
       "      <th>SibSp</th>\n",
       "      <th>Parch</th>\n",
       "      <th>Ticket</th>\n",
       "      <th>Fare</th>\n",
       "      <th>Cabin</th>\n",
       "      <th>Embarked</th>\n",
       "    </tr>\n",
       "  </thead>\n",
       "  <tbody>\n",
       "    <tr>\n",
       "      <th>0</th>\n",
       "      <td>1</td>\n",
       "      <td>0</td>\n",
       "      <td>3</td>\n",
       "      <td>Braund, Mr. Owen Harris</td>\n",
       "      <td>male</td>\n",
       "      <td>22.0</td>\n",
       "      <td>1</td>\n",
       "      <td>0</td>\n",
       "      <td>A/5 21171</td>\n",
       "      <td>7.2500</td>\n",
       "      <td>NaN</td>\n",
       "      <td>S</td>\n",
       "    </tr>\n",
       "    <tr>\n",
       "      <th>1</th>\n",
       "      <td>2</td>\n",
       "      <td>1</td>\n",
       "      <td>1</td>\n",
       "      <td>Cumings, Mrs. John Bradley (Florence Briggs Th...</td>\n",
       "      <td>female</td>\n",
       "      <td>38.0</td>\n",
       "      <td>1</td>\n",
       "      <td>0</td>\n",
       "      <td>PC 17599</td>\n",
       "      <td>71.2833</td>\n",
       "      <td>C85</td>\n",
       "      <td>C</td>\n",
       "    </tr>\n",
       "    <tr>\n",
       "      <th>2</th>\n",
       "      <td>3</td>\n",
       "      <td>1</td>\n",
       "      <td>3</td>\n",
       "      <td>Heikkinen, Miss. Laina</td>\n",
       "      <td>female</td>\n",
       "      <td>26.0</td>\n",
       "      <td>0</td>\n",
       "      <td>0</td>\n",
       "      <td>STON/O2. 3101282</td>\n",
       "      <td>7.9250</td>\n",
       "      <td>NaN</td>\n",
       "      <td>S</td>\n",
       "    </tr>\n",
       "    <tr>\n",
       "      <th>3</th>\n",
       "      <td>4</td>\n",
       "      <td>1</td>\n",
       "      <td>1</td>\n",
       "      <td>Futrelle, Mrs. Jacques Heath (Lily May Peel)</td>\n",
       "      <td>female</td>\n",
       "      <td>35.0</td>\n",
       "      <td>1</td>\n",
       "      <td>0</td>\n",
       "      <td>113803</td>\n",
       "      <td>53.1000</td>\n",
       "      <td>C123</td>\n",
       "      <td>S</td>\n",
       "    </tr>\n",
       "    <tr>\n",
       "      <th>4</th>\n",
       "      <td>5</td>\n",
       "      <td>0</td>\n",
       "      <td>3</td>\n",
       "      <td>Allen, Mr. William Henry</td>\n",
       "      <td>male</td>\n",
       "      <td>35.0</td>\n",
       "      <td>0</td>\n",
       "      <td>0</td>\n",
       "      <td>373450</td>\n",
       "      <td>8.0500</td>\n",
       "      <td>NaN</td>\n",
       "      <td>S</td>\n",
       "    </tr>\n",
       "  </tbody>\n",
       "</table>\n",
       "</div>"
      ],
      "text/plain": [
       "   PassengerId  Survived  Pclass  \\\n",
       "0            1         0       3   \n",
       "1            2         1       1   \n",
       "2            3         1       3   \n",
       "3            4         1       1   \n",
       "4            5         0       3   \n",
       "\n",
       "                                                Name     Sex   Age  SibSp  \\\n",
       "0                            Braund, Mr. Owen Harris    male  22.0      1   \n",
       "1  Cumings, Mrs. John Bradley (Florence Briggs Th...  female  38.0      1   \n",
       "2                             Heikkinen, Miss. Laina  female  26.0      0   \n",
       "3       Futrelle, Mrs. Jacques Heath (Lily May Peel)  female  35.0      1   \n",
       "4                           Allen, Mr. William Henry    male  35.0      0   \n",
       "\n",
       "   Parch            Ticket     Fare Cabin Embarked  \n",
       "0      0         A/5 21171   7.2500   NaN        S  \n",
       "1      0          PC 17599  71.2833   C85        C  \n",
       "2      0  STON/O2. 3101282   7.9250   NaN        S  \n",
       "3      0            113803  53.1000  C123        S  \n",
       "4      0            373450   8.0500   NaN        S  "
      ]
     },
     "execution_count": 1,
     "metadata": {},
     "output_type": "execute_result"
    }
   ],
   "source": [
    "\n",
    "#import numpy as np\n",
    "import pandas as pd\n",
    "import seaborn as sns #for nice graphs\n",
    "import matplotlib.pyplot as plt # for standard graphs\n",
    "import matplotlib as mpl\n",
    "%matplotlib inline\n",
    "\n",
    "# Loading the dataset\n",
    "dataset = 'titanic_data.csv'\n",
    "full_dataset = pd.read_csv(dataset)\n",
    "\n",
    "# Print the first lines\n",
    "full_dataset.head()"
   ]
  },
  {
   "cell_type": "markdown",
   "metadata": {
    "collapsed": true
   },
   "source": [
    "From the Kaggle website, each column is as follow:\n",
    "- **Survived**: Outcome of survival (0 = No; 1 = Yes)\n",
    "- **Pclass**: Socio-economic class (1 = Upper class; 2 = Middle class; 3 = Lower class)\n",
    "- **Name**: Name of passenger\n",
    "- **Sex**: Sex of the passenger\n",
    "- **Age**: Age of the passenger (Some entries contain `NaN`)\n",
    "- **SibSp**: Number of siblings and spouses of the passenger aboard\n",
    "- **Parch**: Number of parents and children of the passenger aboard\n",
    "- **Ticket**: Ticket number of the passenger\n",
    "- **Fare**: Fare paid by the passenger\n",
    "- **Cabin** Cabin number of the passenger (Some entries contain `NaN`)\n",
    "- **Embarked**: Port of embarkation of the passenger (C = Cherbourg; Q = Queenstown; S = Southampton)\n",
    "\n",
    "age: Age is fractional if less than 1. If the age is estimated, is it in the form of xx.5\n",
    "\n",
    "sibsp: The dataset defines family relations in this way...\n",
    "Sibling = brother, sister, stepbrother, stepsister\n",
    "Spouse = husband, wife (mistresses and fiancés were ignored)\n",
    "\n",
    "parch: The dataset defines family relations in this way...\n",
    "Parent = mother, father\n",
    "Child = daughter, son, stepdaughter, stepson\n",
    "Some children travelled only with a nanny, therefore parch=0 for them.\n",
    "\n",
    "## Data check\n",
    "\n",
    "Let's check the data"
   ]
  },
  {
   "cell_type": "code",
   "execution_count": 2,
   "metadata": {
    "collapsed": false
   },
   "outputs": [
    {
     "data": {
      "text/html": [
       "<div>\n",
       "<table border=\"1\" class=\"dataframe\">\n",
       "  <thead>\n",
       "    <tr style=\"text-align: right;\">\n",
       "      <th></th>\n",
       "      <th>0</th>\n",
       "    </tr>\n",
       "  </thead>\n",
       "  <tbody>\n",
       "    <tr>\n",
       "      <th>PassengerId</th>\n",
       "      <td>891</td>\n",
       "    </tr>\n",
       "    <tr>\n",
       "      <th>Survived</th>\n",
       "      <td>891</td>\n",
       "    </tr>\n",
       "    <tr>\n",
       "      <th>Pclass</th>\n",
       "      <td>891</td>\n",
       "    </tr>\n",
       "    <tr>\n",
       "      <th>Name</th>\n",
       "      <td>891</td>\n",
       "    </tr>\n",
       "    <tr>\n",
       "      <th>Sex</th>\n",
       "      <td>891</td>\n",
       "    </tr>\n",
       "    <tr>\n",
       "      <th>Age</th>\n",
       "      <td>714</td>\n",
       "    </tr>\n",
       "    <tr>\n",
       "      <th>SibSp</th>\n",
       "      <td>891</td>\n",
       "    </tr>\n",
       "    <tr>\n",
       "      <th>Parch</th>\n",
       "      <td>891</td>\n",
       "    </tr>\n",
       "    <tr>\n",
       "      <th>Ticket</th>\n",
       "      <td>891</td>\n",
       "    </tr>\n",
       "    <tr>\n",
       "      <th>Fare</th>\n",
       "      <td>891</td>\n",
       "    </tr>\n",
       "    <tr>\n",
       "      <th>Cabin</th>\n",
       "      <td>204</td>\n",
       "    </tr>\n",
       "    <tr>\n",
       "      <th>Embarked</th>\n",
       "      <td>889</td>\n",
       "    </tr>\n",
       "  </tbody>\n",
       "</table>\n",
       "</div>"
      ],
      "text/plain": [
       "               0\n",
       "PassengerId  891\n",
       "Survived     891\n",
       "Pclass       891\n",
       "Name         891\n",
       "Sex          891\n",
       "Age          714\n",
       "SibSp        891\n",
       "Parch        891\n",
       "Ticket       891\n",
       "Fare         891\n",
       "Cabin        204\n",
       "Embarked     889"
      ]
     },
     "execution_count": 2,
     "metadata": {},
     "output_type": "execute_result"
    }
   ],
   "source": [
    "pd.DataFrame(full_dataset.count())"
   ]
  },
  {
   "cell_type": "markdown",
   "metadata": {},
   "source": [
    "So we have 891 entries as expected, only 714 for the age and 204 for the cabin data.\n",
    "To answer the questions, we can clean the data we don't need. For the \"age\" information, I will filter the data and keep only the 714 with age information.\n",
    "\n",
    "Now I will create a new subset of data with only the data I'm interested in."
   ]
  },
  {
   "cell_type": "code",
   "execution_count": 3,
   "metadata": {
    "collapsed": false
   },
   "outputs": [
    {
     "data": {
      "text/html": [
       "<div>\n",
       "<table border=\"1\" class=\"dataframe\">\n",
       "  <thead>\n",
       "    <tr style=\"text-align: right;\">\n",
       "      <th></th>\n",
       "      <th>PassengerId</th>\n",
       "      <th>Survived</th>\n",
       "      <th>Pclass</th>\n",
       "      <th>Sex</th>\n",
       "      <th>Age</th>\n",
       "      <th>SibSp</th>\n",
       "      <th>Parch</th>\n",
       "    </tr>\n",
       "  </thead>\n",
       "  <tbody>\n",
       "    <tr>\n",
       "      <th>0</th>\n",
       "      <td>1</td>\n",
       "      <td>0</td>\n",
       "      <td>3</td>\n",
       "      <td>male</td>\n",
       "      <td>22.0</td>\n",
       "      <td>1</td>\n",
       "      <td>0</td>\n",
       "    </tr>\n",
       "    <tr>\n",
       "      <th>1</th>\n",
       "      <td>2</td>\n",
       "      <td>1</td>\n",
       "      <td>1</td>\n",
       "      <td>female</td>\n",
       "      <td>38.0</td>\n",
       "      <td>1</td>\n",
       "      <td>0</td>\n",
       "    </tr>\n",
       "    <tr>\n",
       "      <th>2</th>\n",
       "      <td>3</td>\n",
       "      <td>1</td>\n",
       "      <td>3</td>\n",
       "      <td>female</td>\n",
       "      <td>26.0</td>\n",
       "      <td>0</td>\n",
       "      <td>0</td>\n",
       "    </tr>\n",
       "    <tr>\n",
       "      <th>3</th>\n",
       "      <td>4</td>\n",
       "      <td>1</td>\n",
       "      <td>1</td>\n",
       "      <td>female</td>\n",
       "      <td>35.0</td>\n",
       "      <td>1</td>\n",
       "      <td>0</td>\n",
       "    </tr>\n",
       "    <tr>\n",
       "      <th>4</th>\n",
       "      <td>5</td>\n",
       "      <td>0</td>\n",
       "      <td>3</td>\n",
       "      <td>male</td>\n",
       "      <td>35.0</td>\n",
       "      <td>0</td>\n",
       "      <td>0</td>\n",
       "    </tr>\n",
       "  </tbody>\n",
       "</table>\n",
       "</div>"
      ],
      "text/plain": [
       "   PassengerId  Survived  Pclass     Sex   Age  SibSp  Parch\n",
       "0            1         0       3    male  22.0      1      0\n",
       "1            2         1       1  female  38.0      1      0\n",
       "2            3         1       3  female  26.0      0      0\n",
       "3            4         1       1  female  35.0      1      0\n",
       "4            5         0       3    male  35.0      0      0"
      ]
     },
     "execution_count": 3,
     "metadata": {},
     "output_type": "execute_result"
    }
   ],
   "source": [
    "# Remove the unwanted columns\n",
    "full_dataset_cleaned = full_dataset.drop(['Name','Ticket','Cabin','Fare','Embarked'], axis=1)\n",
    "full_dataset_cleaned.head()"
   ]
  },
  {
   "cell_type": "markdown",
   "metadata": {},
   "source": [
    "For the rest of the analysis, I will consider that the sample data is representative of the complete population of the Titanic. This is not mentioned on the Kaggle website, so I will take this assumption."
   ]
  },
  {
   "cell_type": "markdown",
   "metadata": {},
   "source": [
    "## Answer to question 1: what is the survival rate?\n",
    "Let's start with an easy question: what is the survival rate?\n",
    "This is the breakdown of survival date:"
   ]
  },
  {
   "cell_type": "code",
   "execution_count": 4,
   "metadata": {
    "collapsed": false
   },
   "outputs": [
    {
     "data": {
      "text/plain": [
       "[<matplotlib.text.Text at 0xa2c3e10>, <matplotlib.text.Text at 0xa2c3a58>]"
      ]
     },
     "execution_count": 4,
     "metadata": {},
     "output_type": "execute_result"
    },
    {
     "data": {
      "text/plain": [
       "<matplotlib.figure.Figure at 0x9f806d8>"
      ]
     },
     "metadata": {},
     "output_type": "display_data"
    },
    {
     "data": {
      "image/png": "[encoded data removed]",
      "text/plain": [
       "<matplotlib.figure.Figure at 0x9f80828>"
      ]
     },
     "metadata": {},
     "output_type": "display_data"
    }
   ],
   "source": [
    "\n",
    "mpl.style.use('seaborn')\n",
    "\n",
    "plt.figure(figsize=(8,6))\n",
    "fig, axis = plt.subplots()\n",
    "full_dataset_cleaned.Survived.value_counts().plot(kind='bar', color=\"rg\")\n",
    "axis.set_xlim(-1, len(full_dataset_cleaned.Survived.value_counts())) \n",
    "axis.set(title='Number of survivors/Deceased', xlabel='Survived?', ylabel='Number of passengers')\n",
    "axis.set_xticklabels(['No', 'Yes'], rotation=0)\n",
    "\n"
   ]
  },
  {
   "cell_type": "code",
   "execution_count": 5,
   "metadata": {
    "collapsed": false
   },
   "outputs": [
    {
     "name": "stdout",
     "output_type": "stream",
     "text": [
      "The global survival rate is 0.3838383838383838%\n"
     ]
    },
    {
     "data": {
      "text/html": [
       "<div>\n",
       "<table border=\"1\" class=\"dataframe\">\n",
       "  <thead>\n",
       "    <tr style=\"text-align: right;\">\n",
       "      <th></th>\n",
       "      <th>Survived</th>\n",
       "    </tr>\n",
       "  </thead>\n",
       "  <tbody>\n",
       "    <tr>\n",
       "      <th>0</th>\n",
       "      <td>549</td>\n",
       "    </tr>\n",
       "    <tr>\n",
       "      <th>1</th>\n",
       "      <td>342</td>\n",
       "    </tr>\n",
       "  </tbody>\n",
       "</table>\n",
       "</div>"
      ],
      "text/plain": [
       "   Survived\n",
       "0       549\n",
       "1       342"
      ]
     },
     "execution_count": 5,
     "metadata": {},
     "output_type": "execute_result"
    }
   ],
   "source": [
    "survived = (full_dataset_cleaned[full_dataset_cleaned['Survived'] == True]).count()\n",
    "print(\"The global survival rate is {}%\".format(survived['Survived']/full_dataset_cleaned['Survived'].count()))\n",
    "pd.DataFrame(full_dataset_cleaned.Survived.value_counts())"
   ]
  },
  {
   "cell_type": "markdown",
   "metadata": {},
   "source": [
    "## Answer to question 2: what is the survival rate based on one criteria (gender, age, social class)?\n",
    "\n",
    "### Impact of gender\n",
    "\n",
    "Now let's see the impact of the gender to this survival rate.\n"
   ]
  },
  {
   "cell_type": "code",
   "execution_count": 6,
   "metadata": {
    "collapsed": false
   },
   "outputs": [
    {
     "name": "stdout",
     "output_type": "stream",
     "text": [
      "As we can see, women had a higher rate of survival\n"
     ]
    },
    {
     "data": {
      "image/png": "[encoded data removed]",
      "text/plain": [
       "<matplotlib.figure.Figure at 0x9f64da0>"
      ]
     },
     "metadata": {},
     "output_type": "display_data"
    }
   ],
   "source": [
    "survivability_per_sex_percentage = full_dataset_cleaned.groupby(['Sex'])['Survived'].mean()*100\n",
    "ax=survivability_per_sex_percentage.plot.bar()\n",
    "ax.set(title='Survival rate based on Gender', \n",
    "       xlabel='Sex', ylabel='Survival rate in %',\n",
    "       ylim=[0,100])\n",
    "ax.set_xticklabels(ax.get_xmajorticklabels(), rotation=0)\n",
    "print('As we can see, women had a higher rate of survival')\n",
    "\n"
   ]
  },
  {
   "cell_type": "markdown",
   "metadata": {},
   "source": [
    "### Impact of the social class"
   ]
  },
  {
   "cell_type": "code",
   "execution_count": 7,
   "metadata": {
    "collapsed": false
   },
   "outputs": [
    {
     "name": "stdout",
     "output_type": "stream",
     "text": [
      "Pclass            1          2          3\n",
      "Survived  62.962963  47.282609  24.236253\n"
     ]
    },
    {
     "data": {
      "image/png": "[encoded data removed]",
      "text/plain": [
       "<matplotlib.figure.Figure at 0xa1e40b8>"
      ]
     },
     "metadata": {},
     "output_type": "display_data"
    }
   ],
   "source": [
    "survivability_per_class_percentage= pd.DataFrame(full_dataset_cleaned.groupby('Pclass')['Survived'].mean()*100).T\n",
    "print(survivability_per_class_percentage)\n",
    "\n",
    "def visualize_surv_barplot(df):\n",
    "    ax = sns.barplot(data=df)\n",
    "    ax.set_ylabel(\"Survivability per class in %\")\n",
    "    ax.set_xlabel(\"Class\")\n",
    "    ax.set_title(\"Survivability rate base on social class\")\n",
    "    \n",
    "visualize_surv_barplot(survivability_per_class_percentage)"
   ]
  },
  {
   "cell_type": "markdown",
   "metadata": {},
   "source": [
    "The survival rate based on the single criteria \"PClass\", we can conclude that people travelling in the first class had a much better chance of survival (due to the fact that the "
   ]
  },
  {
   "cell_type": "markdown",
   "metadata": {},
   "source": [
    "### Impact of the age"
   ]
  },
  {
   "cell_type": "code",
   "execution_count": 8,
   "metadata": {
    "collapsed": false
   },
   "outputs": [
    {
     "data": {
      "text/html": [
       "<div>\n",
       "<table border=\"1\" class=\"dataframe\">\n",
       "  <thead>\n",
       "    <tr style=\"text-align: right;\">\n",
       "      <th></th>\n",
       "      <th>PassengerId</th>\n",
       "      <th>Survived</th>\n",
       "      <th>Pclass</th>\n",
       "      <th>Sex</th>\n",
       "      <th>Age</th>\n",
       "      <th>SibSp</th>\n",
       "      <th>Parch</th>\n",
       "      <th>AgeGroup</th>\n",
       "    </tr>\n",
       "  </thead>\n",
       "  <tbody>\n",
       "    <tr>\n",
       "      <th>0</th>\n",
       "      <td>1</td>\n",
       "      <td>0</td>\n",
       "      <td>3</td>\n",
       "      <td>male</td>\n",
       "      <td>22.0</td>\n",
       "      <td>1</td>\n",
       "      <td>0</td>\n",
       "      <td>adult</td>\n",
       "    </tr>\n",
       "    <tr>\n",
       "      <th>1</th>\n",
       "      <td>2</td>\n",
       "      <td>1</td>\n",
       "      <td>1</td>\n",
       "      <td>female</td>\n",
       "      <td>38.0</td>\n",
       "      <td>1</td>\n",
       "      <td>0</td>\n",
       "      <td>adult</td>\n",
       "    </tr>\n",
       "    <tr>\n",
       "      <th>2</th>\n",
       "      <td>3</td>\n",
       "      <td>1</td>\n",
       "      <td>3</td>\n",
       "      <td>female</td>\n",
       "      <td>26.0</td>\n",
       "      <td>0</td>\n",
       "      <td>0</td>\n",
       "      <td>adult</td>\n",
       "    </tr>\n",
       "    <tr>\n",
       "      <th>3</th>\n",
       "      <td>4</td>\n",
       "      <td>1</td>\n",
       "      <td>1</td>\n",
       "      <td>female</td>\n",
       "      <td>35.0</td>\n",
       "      <td>1</td>\n",
       "      <td>0</td>\n",
       "      <td>adult</td>\n",
       "    </tr>\n",
       "    <tr>\n",
       "      <th>4</th>\n",
       "      <td>5</td>\n",
       "      <td>0</td>\n",
       "      <td>3</td>\n",
       "      <td>male</td>\n",
       "      <td>35.0</td>\n",
       "      <td>0</td>\n",
       "      <td>0</td>\n",
       "      <td>adult</td>\n",
       "    </tr>\n",
       "  </tbody>\n",
       "</table>\n",
       "</div>"
      ],
      "text/plain": [
       "   PassengerId  Survived  Pclass     Sex   Age  SibSp  Parch AgeGroup\n",
       "0            1         0       3    male  22.0      1      0    adult\n",
       "1            2         1       1  female  38.0      1      0    adult\n",
       "2            3         1       3  female  26.0      0      0    adult\n",
       "3            4         1       1  female  35.0      1      0    adult\n",
       "4            5         0       3    male  35.0      0      0    adult"
      ]
     },
     "execution_count": 8,
     "metadata": {},
     "output_type": "execute_result"
    }
   ],
   "source": [
    "\n",
    "# To visualize the survival rate based on age, we need to split the age column into categories. \n",
    "# For this, we will add a column \"AgeGroup\" to the dataset with the following groups:\n",
    "# Baby : 0 to 2\n",
    "# Child : 2 to 12\n",
    "# Teenage: 12 to 18\n",
    "# Adult: 18 to 60\n",
    "# Senior: > 60\n",
    "full_dataset_cleaned['AgeGroup'] =  pd.cut(full_dataset_cleaned['Age'], [0,2, 12, 18, 59, 100], labels=[\"baby\", \"child\", \"teenager\",\"adult\", \"senior\"])\n",
    "full_dataset_cleaned.head()"
   ]
  },
  {
   "cell_type": "code",
   "execution_count": 9,
   "metadata": {
    "collapsed": false
   },
   "outputs": [
    {
     "name": "stdout",
     "output_type": "stream",
     "text": [
      "As we can see, the survival rate is highly depending on the age group: the younger you are, the better chance to survive you have\n"
     ]
    },
    {
     "data": {
      "image/png": "[encoded data removed]",
      "text/plain": [
       "<matplotlib.figure.Figure at 0xa376b70>"
      ]
     },
     "metadata": {},
     "output_type": "display_data"
    }
   ],
   "source": [
    "survivability_per_age_percentage = full_dataset_cleaned.groupby(['AgeGroup'])['Survived'].mean()*100\n",
    "\n",
    "ax=survivability_per_age_percentage.plot.bar(color=\"rgbmc\")\n",
    "ax.set(title='Survival rate per group of Age', \n",
    "       xlabel='Age Group', ylabel='Survival rate in %',\n",
    "       ylim=[0,100])\n",
    "ax.set_xticklabels(ax.get_xmajorticklabels(), rotation=0)\n",
    "\n",
    "print('As we can see, the survival rate is highly depending on the age group: the younger you are, the better chance to survive you have')"
   ]
  },
  {
   "cell_type": "markdown",
   "metadata": {},
   "source": [
    "### Impact of  Parent/children criteria"
   ]
  },
  {
   "cell_type": "code",
   "execution_count": 10,
   "metadata": {
    "collapsed": false,
    "scrolled": true
   },
   "outputs": [
    {
     "name": "stdout",
     "output_type": "stream",
     "text": [
      "        Survived\n",
      "Parch           \n",
      "0      34.365782\n",
      "1      55.084746\n",
      "2      50.000000\n",
      "3      60.000000\n",
      "4       0.000000\n",
      "5      20.000000\n",
      "6       0.000000\n",
      "people with parent/children on board had a better chance of surviving between 1 and 3. Above 4 the survivability rates goes down.\n"
     ]
    },
    {
     "data": {
      "image/png": "[encoded data removed]",
      "text/plain": [
       "<matplotlib.figure.Figure at 0xa4360b8>"
      ]
     },
     "metadata": {},
     "output_type": "display_data"
    }
   ],
   "source": [
    "survivability_per_parch_percentage = pd.DataFrame(full_dataset_cleaned.groupby(['Parch'])['Survived'].mean()*100)\n",
    "print(survivability_per_parch_percentage)\n",
    "ax = survivability_per_parch_percentage.plot(kind='bar', color=\"rbgym\", legend=False)\n",
    "plt.title(\"Survival rate based on parent/children on board criteria\")\n",
    "ax.set(xlabel=\"Number of parent/children onboard\", ylabel='Survivability rate in %')\n",
    "ax.set_xticklabels(ax.get_xmajorticklabels(), rotation=0)\n",
    "print('people with parent/children on board had a better chance of surviving between 1 and 3. Above 4 the survivability rates goes down.')"
   ]
  },
  {
   "cell_type": "markdown",
   "metadata": {},
   "source": [
    "### Impact of Sibling/Partner criteria "
   ]
  },
  {
   "cell_type": "code",
   "execution_count": 11,
   "metadata": {
    "collapsed": false
   },
   "outputs": [
    {
     "name": "stdout",
     "output_type": "stream",
     "text": [
      "       Survived\n",
      "SibSp          \n",
      "0      0.345395\n",
      "1      0.535885\n",
      "2      0.464286\n",
      "3      0.250000\n",
      "4      0.166667\n",
      "5      0.000000\n",
      "8      0.000000\n",
      "people with parent/children on board had a better chance of surviving between 1 and 3. Above 4 the survivability rates goes down.\n"
     ]
    },
    {
     "data": {
      "image/png": "[encoded data removed]",
      "text/plain": [
       "<matplotlib.figure.Figure at 0xb83d320>"
      ]
     },
     "metadata": {},
     "output_type": "display_data"
    }
   ],
   "source": [
    "survivability_per_sibsp_percentage = pd.DataFrame(full_dataset_cleaned.groupby(['SibSp'])['Survived'].mean())\n",
    "print(survivability_per_sibsp_percentage)\n",
    "ax = survivability_per_sibsp_percentage.plot(kind='bar', color=\"rbgym\", legend=False)\n",
    "ax.set(xlabel=\"Number of sibling/partner onboard\", ylabel='Survivability rate in %')\n",
    "ax.set_xticklabels(ax.get_xmajorticklabels(), rotation=0)\n",
    "plt.title(\"Survival rate based on Siblings/spouse onboard criteria\")\n",
    "print('people with parent/children on board had a better chance of surviving between 1 and 3. Above 4 the survivability rates goes down.')"
   ]
  },
  {
   "cell_type": "markdown",
   "metadata": {},
   "source": [
    "# Answer to question 3: what is the survival rate based on two criterias (gender, age, social class)?\n",
    "## Criteria (Gender / Social class)"
   ]
  },
  {
   "cell_type": "code",
   "execution_count": 12,
   "metadata": {
    "collapsed": false
   },
   "outputs": [
    {
     "name": "stdout",
     "output_type": "stream",
     "text": [
      "As we can see, women had a higher rate of survival in the first and second class\n"
     ]
    },
    {
     "data": {
      "image/png": "[encoded data removed]",
      "text/plain": [
       "<matplotlib.figure.Figure at 0xb907860>"
      ]
     },
     "metadata": {},
     "output_type": "display_data"
    }
   ],
   "source": [
    "survivability_per_sex_class_percentage = full_dataset_cleaned.groupby(['Pclass', 'Sex',])['Survived'].mean().unstack()*100\n",
    "ax=survivability_per_sex_class_percentage.plot.bar(color=\"mb\")\n",
    "ax.set(title='Survival rate by class and gender', \n",
    "       xlabel='Class', ylabel='Survival rate in %',\n",
    "       ylim=[0,100])\n",
    "ax.set_xticklabels(ax.get_xmajorticklabels(), rotation=0)\n",
    "plt.title(\"Survival rate based on Age and Social class\")\n",
    "print('As we can see, women had a higher rate of survival in the first and second class')"
   ]
  },
  {
   "cell_type": "markdown",
   "metadata": {},
   "source": [
    "## Criteria (Gender / Age group)"
   ]
  },
  {
   "cell_type": "code",
   "execution_count": 13,
   "metadata": {
    "collapsed": false
   },
   "outputs": [
    {
     "data": {
      "text/plain": [
       "<seaborn.axisgrid.FacetGrid at 0x9f64a20>"
      ]
     },
     "execution_count": 13,
     "metadata": {},
     "output_type": "execute_result"
    },
    {
     "data": {
      "image/png": "[encoded data removed]",
      "text/plain": [
       "<matplotlib.figure.Figure at 0x4a44588>"
      ]
     },
     "metadata": {},
     "output_type": "display_data"
    }
   ],
   "source": [
    "# Let's us have a look at the repartition of survival rate depending on age and sex.\n",
    "graph_sex_age = sns.factorplot(x=\"Survived\", y=\"Age\", hue='Sex', data=full_dataset_cleaned, kind=\"box\")\n",
    "graph_sex_age.set_titles(\"Survival repartion based on Age and gender\")\n",
    "graph_sex_age.set_axis_labels('Survived', 'Age')\n",
    "graph_sex_age.set_xticklabels([\"No\", \"Yes\"])\n",
    "\n"
   ]
  },
  {
   "cell_type": "markdown",
   "metadata": {},
   "source": [
    "From this graph, we cannot see a tendency for surviving based on Gender and Sex. Inh the next step, I will split the group in different Age categories to try to find a tendency based on age group defined above."
   ]
  },
  {
   "cell_type": "code",
   "execution_count": 14,
   "metadata": {
    "collapsed": false
   },
   "outputs": [
    {
     "name": "stdout",
     "output_type": "stream",
     "text": [
      "Let's have a look at the total number of person per group to assess the reprentativity of the %\n",
      "                   Survived\n",
      "AgeGroup Survived          \n",
      "baby     0                9\n",
      "         1               15\n",
      "child    0               20\n",
      "         1               25\n",
      "teenager 0               40\n",
      "         1               30\n",
      "adult    0              336\n",
      "         1              213\n",
      "senior   0               19\n",
      "         1                7\n",
      "Sex           female       male\n",
      "AgeGroup                       \n",
      "baby       60.000000  64.285714\n",
      "child      59.090909  52.173913\n",
      "teenager   75.000000   8.823529\n",
      "adult      77.777778  18.333333\n",
      "senior    100.000000  13.636364\n",
      "As we can see, women had a higher rate of survival independently of the age up to 12 years old, after 12 years old, the survival rate is closed the survival rate based only on the criteria \"Sex\".\n"
     ]
    },
    {
     "data": {
      "image/png": "[encoded data removed]",
      "text/plain": [
       "<matplotlib.figure.Figure at 0xba57668>"
      ]
     },
     "metadata": {},
     "output_type": "display_data"
    }
   ],
   "source": [
    "survivability_per_sex_AgeGroup_percentage = pd.DataFrame(full_dataset_cleaned.groupby(['AgeGroup', 'Sex',])['Survived'].mean().unstack()*100)\n",
    "survivability_per_sex_AgeGroup_count = pd.DataFrame(full_dataset_cleaned.groupby(['AgeGroup','Survived'])['Survived'].count())\n",
    "\n",
    "print('Let\\'s have a look at the total number of person per group to assess the reprentativity of the %')\n",
    "print(survivability_per_sex_AgeGroup_count)\n",
    "\n",
    "print(survivability_per_sex_AgeGroup_percentage)\n",
    "ax = survivability_per_sex_AgeGroup_percentage.plot(kind='bar', color=\"rb\")\n",
    "ax.set(title='Survival rate by age group and gender', \n",
    "       xlabel='Age group', ylabel='Survival rate in %',\n",
    "       ylim=[0,100])\n",
    "ax.set_xticklabels(ax.get_xmajorticklabels(), rotation=0)\n",
    "print('As we can see, women had a higher rate of survival independently of the age up to 12 years old, after 12 years old, the survival rate is closed the survival rate based only on the criteria \"Sex\".')"
   ]
  },
  {
   "cell_type": "markdown",
   "metadata": {},
   "source": [
    "### Criteria (Age group / Class)"
   ]
  },
  {
   "cell_type": "code",
   "execution_count": 15,
   "metadata": {
    "collapsed": false
   },
   "outputs": [
    {
     "name": "stdout",
     "output_type": "stream",
     "text": [
      "AgeGroup        baby       child   teenager      adult     senior\n",
      "Pclass                                                           \n",
      "1          50.000000  100.000000  91.666667  67.320261  29.411765\n",
      "2         100.000000  100.000000  50.000000  42.142857  25.000000\n",
      "3          46.666667   39.393939  28.260870  19.921875  20.000000\n",
      "The trend of both criteria has a cumulative effect, and does not show anything noticeable.\n"
     ]
    },
    {
     "data": {
      "image/png": "[encoded data removed]",
      "text/plain": [
       "<matplotlib.figure.Figure at 0xb8e09b0>"
      ]
     },
     "metadata": {},
     "output_type": "display_data"
    }
   ],
   "source": [
    "survivability_per_AgeGroup_Class_percentage = pd.DataFrame(full_dataset_cleaned.groupby(['Pclass','AgeGroup'])['Survived'].mean().unstack()*100)\n",
    "print(survivability_per_AgeGroup_Class_percentage)\n",
    "ax = survivability_per_AgeGroup_Class_percentage.plot(kind='bar', color=\"rbgym\")\n",
    "ax.set(title='Survival repartion based on Age group and Class', \n",
    "       xlabel='Class', ylabel='Survival rate in %',\n",
    "       ylim=[0,100])\n",
    "ax.set_xticklabels(ax.get_xmajorticklabels(), rotation=0)\n",
    "\n",
    "print('The trend of both criteria has a cumulative effect, and does not show anything noticeable.')"
   ]
  },
  {
   "cell_type": "raw",
   "metadata": {},
   "source": []
  },
  {
   "cell_type": "markdown",
   "metadata": {},
   "source": [
    "### Criteria (Parent/Child / Class)"
   ]
  },
  {
   "cell_type": "code",
   "execution_count": 16,
   "metadata": {
    "collapsed": false
   },
   "outputs": [
    {
     "name": "stdout",
     "output_type": "stream",
     "text": [
      "Sex       female       male\n",
      "Parch                      \n",
      "0      78.865979  16.528926\n",
      "1      76.666667  32.758621\n",
      "2      61.224490  32.258065\n",
      "3      75.000000   0.000000\n",
      "4       0.000000   0.000000\n",
      "5      25.000000   0.000000\n",
      "6       0.000000        NaN\n",
      "The fact to have parent/child on board has few effect on the survivability rate for Women, but for male, to have child/parent on board raises the chance to survive\n"
     ]
    },
    {
     "data": {
      "image/png": "[encoded data removed]",
      "text/plain": [
       "<matplotlib.figure.Figure at 0xb9caa90>"
      ]
     },
     "metadata": {},
     "output_type": "display_data"
    }
   ],
   "source": [
    "survivability_per_PArcSex_Class_percentage = pd.DataFrame(full_dataset_cleaned.groupby(['Parch','Sex'])['Survived'].mean().unstack()*100)\n",
    "print(survivability_per_PArcSex_Class_percentage)\n",
    "ax = survivability_per_PArcSex_Class_percentage.plot(kind='bar', color=\"rbgym\")\n",
    "ax.set(title='Survival repartion based on Parent/child and Class', \n",
    "       xlabel='Parent/child on board', ylabel='Survival rate in %',\n",
    "       ylim=[0,100])\n",
    "ax.set_xticklabels(ax.get_xmajorticklabels(), rotation=0)\n",
    "\n",
    "print('The fact to have parent/child on board has few effect on the survivability rate for Women, but for male, to have child/parent on board raises the chance to survive')"
   ]
  },
  {
   "cell_type": "markdown",
   "metadata": {},
   "source": [
    "# Conclusion\n",
    "As a first conclusion, provided that the sample of data used for this analysis is representative of the complete Titanic population, we can define that the main drivers to survive are:\n",
    "1. the age (below 12, no difference between male and female)\n",
    "2. the sex (to be a female or a boy under 12 years old)\n",
    "3. the social class (to be in first class is better)\n",
    "4. the parent/child criteria\n",
    "\n",
    "The best survivability is for a woman, belonging to the first class (where the safety boats are sufficient), with a partner on board, and with one to two children.\n",
    "\n",
    "Concerning the limitations, there is no information about the sample given, if this is representative or not of the overall population. In this analysis, we assumed the sample is representative of the overall population.\n",
    "For the age information, some of the data was mising and has been removed from the sample, which is reducing even more the data sample. (I could have decided to keep the data by taking the average age of the sample but I considered that 714 datas was still sufficient for this analysis).\n"
   ]
  }
 ],
 "metadata": {
  "kernelspec": {
   "display_name": "Python 3",
   "language": "python",
   "name": "python3"
  },
  "language_info": {
   "codemirror_mode": {
    "name": "ipython",
    "version": 3
   },
   "file_extension": ".py",
   "mimetype": "text/x-python",
   "name": "python",
   "nbconvert_exporter": "python",
   "pygments_lexer": "ipython3",
   "version": "3.6.0"
  }
 },
 "nbformat": 4,
 "nbformat_minor": 2
}
